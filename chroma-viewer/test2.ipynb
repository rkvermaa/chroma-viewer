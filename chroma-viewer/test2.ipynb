{
 "cells": [
  {
   "cell_type": "code",
   "execution_count": 4,
   "metadata": {},
   "outputs": [
    {
     "name": "stdout",
     "output_type": "stream",
     "text": [
      "{'results': [{'id': 1048580, 'key': 'FD', 'name': 'first document', 'type': 'global', 'status': 'current', '_expandable': {'settings': '/rest/api/space/FD/settings', 'metadata': '', 'operations': '', 'lookAndFeel': '/rest/api/settings/lookandfeel?spaceKey=FD', 'identifiers': '', 'permissions': '', 'icon': '', 'description': '', 'theme': '/rest/api/space/FD/theme', 'history': '', 'homepage': '/rest/api/content/1048789'}, '_links': {'webui': '/spaces/FD', 'self': 'https://llamaindexdemo.atlassian.net/wiki/rest/api/space/FD'}}, {'id': 196612, 'key': 'TEAM', 'name': 'My first space', 'type': 'global', 'status': 'current', '_expandable': {'settings': '/rest/api/space/TEAM/settings', 'metadata': '', 'operations': '', 'lookAndFeel': '/rest/api/settings/lookandfeel?spaceKey=TEAM', 'identifiers': '', 'permissions': '', 'icon': '', 'description': '', 'theme': '/rest/api/space/TEAM/theme', 'history': '', 'homepage': '/rest/api/content/196706'}, '_links': {'webui': '/spaces/TEAM', 'self': 'https://llamaindexdemo.atlassian.net/wiki/rest/api/space/TEAM'}}, {'id': 98306, 'key': '~712020494f3f1ac30c4020a7a785becd35c80e', 'name': 'Ravi Kumar Verma', 'type': 'personal', 'status': 'current', '_expandable': {'settings': '/rest/api/space/~712020494f3f1ac30c4020a7a785becd35c80e/settings', 'metadata': '', 'operations': '', 'lookAndFeel': '/rest/api/settings/lookandfeel?spaceKey=~712020494f3f1ac30c4020a7a785becd35c80e', 'identifiers': '', 'permissions': '', 'icon': '', 'description': '', 'theme': '/rest/api/space/~712020494f3f1ac30c4020a7a785becd35c80e/theme', 'history': '', 'homepage': '/rest/api/content/98387'}, '_links': {'webui': '/spaces/~712020494f3f1ac30c4020a7a785becd35c80e', 'self': 'https://llamaindexdemo.atlassian.net/wiki/rest/api/space/~712020494f3f1ac30c4020a7a785becd35c80e'}}, {'id': 983048, 'key': 'test', 'name': 'test', 'type': 'global', 'status': 'current', '_expandable': {'settings': '/rest/api/space/test/settings', 'metadata': '', 'operations': '', 'lookAndFeel': '/rest/api/settings/lookandfeel?spaceKey=test', 'identifiers': '', 'permissions': '', 'icon': '', 'description': '', 'theme': '/rest/api/space/test/theme', 'history': '', 'homepage': '/rest/api/content/983121'}, '_links': {'webui': '/spaces/test', 'self': 'https://llamaindexdemo.atlassian.net/wiki/rest/api/space/test'}}], 'start': 0, 'limit': 25, 'size': 4, '_links': {'base': 'https://llamaindexdemo.atlassian.net/wiki', 'context': '/wiki', 'self': 'https://llamaindexdemo.atlassian.net/wiki/rest/api/space'}}\n"
     ]
    }
   ],
   "source": [
    "import requests\n",
    "import json\n",
    "\n",
    "# url = \"https://llamaindexdemo.atlassian.net/wiki/rest/api/content\"\n",
    "url = \"https://llamaindexdemo.atlassian.net/wiki/rest/api/space\"\n",
    "\n",
    "payload = {}\n",
    "headers = {}\n",
    "\n",
    "response = requests.request(\"GET\", url, headers=headers, data=payload)\n",
    "\n",
    "if response.status_code == 200:\n",
    "    # Convert JSON response to dictionary\n",
    "    data_dict = json.loads(response.text)\n",
    "    print(data_dict)\n",
    "else:\n",
    "    print(\"Request was not successful. Status code:\", response.status_code)"
   ]
  },
  {
   "cell_type": "code",
   "execution_count": null,
   "metadata": {},
   "outputs": [],
   "source": []
  },
  {
   "cell_type": "code",
   "execution_count": 3,
   "metadata": {},
   "outputs": [],
   "source": [
    "import chromadb\n",
    "\n",
    "client = chromadb.Client()"
   ]
  },
  {
   "cell_type": "code",
   "execution_count": 5,
   "metadata": {},
   "outputs": [],
   "source": [
    "collection = client.create_collection(name=\"test\")"
   ]
  },
  {
   "cell_type": "code",
   "execution_count": 8,
   "metadata": {},
   "outputs": [],
   "source": [
    "documents =[]\n",
    "metadata = []\n",
    "ids = []\n",
    "for i in range(0, len(data_dict['results'])):\n",
    "  documents.append(data_dict['results'][i]['name'])\n",
    "  meta = {\n",
    "        \"source\": data_dict['results'][i]['key']\n",
    "    }\n",
    "  metadata.append(meta)\n",
    "  ids.append(str(data_dict['results'][i]['id']))\n",
    "  "
   ]
  },
  {
   "cell_type": "code",
   "execution_count": 9,
   "metadata": {},
   "outputs": [
    {
     "name": "stderr",
     "output_type": "stream",
     "text": [
      "Add of existing embedding ID: 1048580\n",
      "Add of existing embedding ID: 196612\n",
      "Add of existing embedding ID: 98306\n",
      "Add of existing embedding ID: 983048\n",
      "Insert of existing embedding ID: 1048580\n",
      "Insert of existing embedding ID: 196612\n",
      "Insert of existing embedding ID: 98306\n",
      "Insert of existing embedding ID: 983048\n"
     ]
    }
   ],
   "source": [
    "collection.add(\n",
    "    documents = documents,\n",
    "    metadatas = metadata,\n",
    "    ids = ids\n",
    ")"
   ]
  },
  {
   "cell_type": "code",
   "execution_count": 10,
   "metadata": {},
   "outputs": [
    {
     "data": {
      "text/plain": [
       "[Collection(name=test)]"
      ]
     },
     "execution_count": 10,
     "metadata": {},
     "output_type": "execute_result"
    }
   ],
   "source": [
    "client.list_collections()"
   ]
  },
  {
   "cell_type": "code",
   "execution_count": 11,
   "metadata": {},
   "outputs": [
    {
     "data": {
      "text/plain": [
       "4"
      ]
     },
     "execution_count": 11,
     "metadata": {},
     "output_type": "execute_result"
    }
   ],
   "source": [
    "collection.count()"
   ]
  },
  {
   "cell_type": "code",
   "execution_count": null,
   "metadata": {},
   "outputs": [],
   "source": []
  }
 ],
 "metadata": {
  "kernelspec": {
   "display_name": "llamaindex",
   "language": "python",
   "name": "python3"
  },
  "language_info": {
   "codemirror_mode": {
    "name": "ipython",
    "version": 3
   },
   "file_extension": ".py",
   "mimetype": "text/x-python",
   "name": "python",
   "nbconvert_exporter": "python",
   "pygments_lexer": "ipython3",
   "version": "3.9.18"
  }
 },
 "nbformat": 4,
 "nbformat_minor": 2
}
